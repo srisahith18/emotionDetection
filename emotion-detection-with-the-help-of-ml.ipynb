{
 "cells": [
  {
   "cell_type": "code",
   "execution_count": 1,
   "id": "0e16872d",
   "metadata": {
    "_cell_guid": "b1076dfc-b9ad-4769-8c92-a6c4dae69d19",
    "_uuid": "8f2839f25d086af736a60e9eeb907d3b93b6e0e5",
    "execution": {
     "iopub.execute_input": "2024-02-11T06:33:47.774238Z",
     "iopub.status.busy": "2024-02-11T06:33:47.773843Z",
     "iopub.status.idle": "2024-02-11T06:33:48.880936Z",
     "shell.execute_reply": "2024-02-11T06:33:48.879415Z"
    },
    "papermill": {
     "duration": 1.121764,
     "end_time": "2024-02-11T06:33:48.884273",
     "exception": false,
     "start_time": "2024-02-11T06:33:47.762509",
     "status": "completed"
    },
    "tags": []
   },
   "outputs": [
    {
     "name": "stdout",
     "output_type": "stream",
     "text": [
      "/kaggle/input/text-dataset-for-text-emotion-detection/text.txt\n"
     ]
    }
   ],
   "source": [
    "# This Python 3 environment comes with many helpful analytics libraries installed\n",
    "# It is defined by the kaggle/python Docker image: https://github.com/kaggle/docker-python\n",
    "# For example, here's several helpful packages to load\n",
    "\n",
    "import numpy as np # linear algebra\n",
    "import pandas as pd # data processing, CSV file I/O (e.g. pd.read_csv)\n",
    "\n",
    "# Input data files are available in the read-only \"../input/\" directory\n",
    "# For example, running this (by clicking run or pressing Shift+Enter) will list all files under the input directory\n",
    "\n",
    "import os\n",
    "for dirname, _, filenames in os.walk('/kaggle/input'):\n",
    "    for filename in filenames:\n",
    "        print(os.path.join(dirname, filename))\n",
    "\n",
    "# You can write up to 20GB to the current directory (/kaggle/working/) that gets preserved as output when you create a version using \"Save & Run All\" \n",
    "# You can also write temporary files to /kaggle/temp/, but they won't be saved outside of the current session"
   ]
  },
  {
   "cell_type": "code",
   "execution_count": 2,
   "id": "ca925b23",
   "metadata": {
    "execution": {
     "iopub.execute_input": "2024-02-11T06:33:48.903943Z",
     "iopub.status.busy": "2024-02-11T06:33:48.903289Z",
     "iopub.status.idle": "2024-02-11T06:33:48.934674Z",
     "shell.execute_reply": "2024-02-11T06:33:48.933736Z"
    },
    "papermill": {
     "duration": 0.044667,
     "end_time": "2024-02-11T06:33:48.937733",
     "exception": false,
     "start_time": "2024-02-11T06:33:48.893066",
     "status": "completed"
    },
    "tags": []
   },
   "outputs": [],
   "source": [
    "f=open(r\"/kaggle/input/text-dataset-for-text-emotion-detection/text.txt\",\"r\")\n",
    "data=f.read()\n",
    "f.close()"
   ]
  },
  {
   "cell_type": "code",
   "execution_count": 3,
   "id": "09aedd5f",
   "metadata": {
    "execution": {
     "iopub.execute_input": "2024-02-11T06:33:48.959412Z",
     "iopub.status.busy": "2024-02-11T06:33:48.958971Z",
     "iopub.status.idle": "2024-02-11T06:33:48.977406Z",
     "shell.execute_reply": "2024-02-11T06:33:48.976188Z"
    },
    "papermill": {
     "duration": 0.03377,
     "end_time": "2024-02-11T06:33:48.980499",
     "exception": false,
     "start_time": "2024-02-11T06:33:48.946729",
     "status": "completed"
    },
    "tags": []
   },
   "outputs": [],
   "source": [
    "ds=[]\n",
    "for d in data.split(\"\\n\"):\n",
    "    ds.append(d.split(\"] \"))"
   ]
  },
  {
   "cell_type": "code",
   "execution_count": 4,
   "id": "fbe326ee",
   "metadata": {
    "execution": {
     "iopub.execute_input": "2024-02-11T06:33:48.999953Z",
     "iopub.status.busy": "2024-02-11T06:33:48.999548Z",
     "iopub.status.idle": "2024-02-11T06:33:51.400873Z",
     "shell.execute_reply": "2024-02-11T06:33:51.399340Z"
    },
    "papermill": {
     "duration": 2.414954,
     "end_time": "2024-02-11T06:33:51.404080",
     "exception": false,
     "start_time": "2024-02-11T06:33:48.989126",
     "status": "completed"
    },
    "tags": []
   },
   "outputs": [],
   "source": [
    "import nltk\n",
    "import string"
   ]
  },
  {
   "cell_type": "code",
   "execution_count": 5,
   "id": "9e0c9e31",
   "metadata": {
    "execution": {
     "iopub.execute_input": "2024-02-11T06:33:51.423981Z",
     "iopub.status.busy": "2024-02-11T06:33:51.423515Z",
     "iopub.status.idle": "2024-02-11T06:33:51.430809Z",
     "shell.execute_reply": "2024-02-11T06:33:51.429688Z"
    },
    "papermill": {
     "duration": 0.020094,
     "end_time": "2024-02-11T06:33:51.433189",
     "exception": false,
     "start_time": "2024-02-11T06:33:51.413095",
     "status": "completed"
    },
    "tags": []
   },
   "outputs": [],
   "source": [
    "from nltk.corpus import stopwords\n",
    "from nltk.tokenize import word_tokenize\n",
    "def preprocess_text(text):\n",
    "    text = text.lower()  \n",
    "    tokens = word_tokenize(text) \n",
    "    tokens = [word for word in tokens if word not in string.punctuation]  \n",
    "    stop_words = set(stopwords.words('english'))\n",
    "    tokens = [word for word in tokens if word not in stop_words]\n",
    "    return ' '.join(tokens)"
   ]
  },
  {
   "cell_type": "code",
   "execution_count": 6,
   "id": "2718f45d",
   "metadata": {
    "execution": {
     "iopub.execute_input": "2024-02-11T06:33:51.452301Z",
     "iopub.status.busy": "2024-02-11T06:33:51.451892Z",
     "iopub.status.idle": "2024-02-11T06:33:51.514291Z",
     "shell.execute_reply": "2024-02-11T06:33:51.512741Z"
    },
    "papermill": {
     "duration": 0.075229,
     "end_time": "2024-02-11T06:33:51.516961",
     "exception": false,
     "start_time": "2024-02-11T06:33:51.441732",
     "status": "completed"
    },
    "tags": []
   },
   "outputs": [
    {
     "name": "stdout",
     "output_type": "stream",
     "text": [
      "[[[1.0, 0.0, 0.0, 0.0, 0.0, 0.0, 0.0], 'During the period of falling in love, each time that we met and especially when we had not met for a long time.'], [[0.0, 1.0, 0.0, 0.0, 0.0, 0.0, 0.0], 'When I was involved in a traffic accident.'], [[0.0, 0.0, 1.0, 0.0, 0.0, 0.0, 0.0], 'When I was driving home after  several days of hard work, there was a motorist ahead of me who was driving at 50 km/hour and refused, despite his low speeed to let me overtake.'], [[0.0, 0.0, 0.0, 1.0, 0.0, 0.0, 0.0], 'When I lost the person who meant the most to me.'], [[0.0, 0.0, 0.0, 0.0, 1.0, 0.0, 0.0], \"The time I knocked a deer down - the sight of the animal's injuries and helplessness.  The realization that the animal was so badly hurt that it had to be put down, and when the animal screamed at the moment of death.\"]]\n"
     ]
    }
   ],
   "source": [
    "target=['joy','fear','anger','sadness','disgust','shame','guilt']\n",
    "for i in range(len(ds)):\n",
    "    tar=[]\n",
    "    for v in ds[i][0]:\n",
    "        if v.isdecimal():\n",
    "            tar.append(float(v))\n",
    "    ds[i][0]=tar\n",
    "print(ds[:5])\n"
   ]
  },
  {
   "cell_type": "code",
   "execution_count": 7,
   "id": "4f65d520",
   "metadata": {
    "execution": {
     "iopub.execute_input": "2024-02-11T06:33:51.536338Z",
     "iopub.status.busy": "2024-02-11T06:33:51.535910Z",
     "iopub.status.idle": "2024-02-11T06:33:55.785943Z",
     "shell.execute_reply": "2024-02-11T06:33:55.784160Z"
    },
    "papermill": {
     "duration": 4.263464,
     "end_time": "2024-02-11T06:33:55.789153",
     "exception": false,
     "start_time": "2024-02-11T06:33:51.525689",
     "status": "completed"
    },
    "tags": []
   },
   "outputs": [
    {
     "name": "stdout",
     "output_type": "stream",
     "text": [
      "[[]]\n"
     ]
    }
   ],
   "source": [
    "X,y=[],[]\n",
    "for v in ds:\n",
    "    if len(v)!=2:\n",
    "        print(v)\n",
    "        continue\n",
    "    X.append(preprocess_text(v[1]))\n",
    "    y.append(v[0])"
   ]
  },
  {
   "cell_type": "code",
   "execution_count": 8,
   "id": "8ea8faed",
   "metadata": {
    "execution": {
     "iopub.execute_input": "2024-02-11T06:33:55.808852Z",
     "iopub.status.busy": "2024-02-11T06:33:55.808377Z",
     "iopub.status.idle": "2024-02-11T06:33:55.818341Z",
     "shell.execute_reply": "2024-02-11T06:33:55.816906Z"
    },
    "papermill": {
     "duration": 0.022882,
     "end_time": "2024-02-11T06:33:55.820842",
     "exception": false,
     "start_time": "2024-02-11T06:33:55.797960",
     "status": "completed"
    },
    "tags": []
   },
   "outputs": [
    {
     "data": {
      "text/plain": [
       "0"
      ]
     },
     "execution_count": 8,
     "metadata": {},
     "output_type": "execute_result"
    }
   ],
   "source": [
    "len(X),len(y)\n",
    "y[7].index(1)"
   ]
  },
  {
   "cell_type": "code",
   "execution_count": 9,
   "id": "d52e1bdf",
   "metadata": {
    "execution": {
     "iopub.execute_input": "2024-02-11T06:33:55.840376Z",
     "iopub.status.busy": "2024-02-11T06:33:55.839895Z",
     "iopub.status.idle": "2024-02-11T06:33:55.875059Z",
     "shell.execute_reply": "2024-02-11T06:33:55.873829Z"
    },
    "papermill": {
     "duration": 0.048422,
     "end_time": "2024-02-11T06:33:55.877937",
     "exception": false,
     "start_time": "2024-02-11T06:33:55.829515",
     "status": "completed"
    },
    "tags": []
   },
   "outputs": [
    {
     "data": {
      "text/plain": [
       "['joy',\n",
       " 'fear',\n",
       " 'anger',\n",
       " 'sadness',\n",
       " 'disgust',\n",
       " 'shame',\n",
       " 'guilt',\n",
       " 'joy',\n",
       " 'fear',\n",
       " 'anger',\n",
       " 'sadness',\n",
       " 'disgust',\n",
       " 'shame',\n",
       " 'guilt',\n",
       " 'joy',\n",
       " 'fear',\n",
       " 'anger',\n",
       " 'sadness',\n",
       " 'disgust',\n",
       " 'shame',\n",
       " 'guilt',\n",
       " 'joy',\n",
       " 'fear',\n",
       " 'anger',\n",
       " 'sadness',\n",
       " 'disgust',\n",
       " 'shame',\n",
       " 'guilt',\n",
       " 'joy',\n",
       " 'fear',\n",
       " 'anger',\n",
       " 'sadness',\n",
       " 'disgust',\n",
       " 'shame',\n",
       " 'guilt',\n",
       " 'joy',\n",
       " 'fear',\n",
       " 'anger',\n",
       " 'sadness',\n",
       " 'disgust',\n",
       " 'shame',\n",
       " 'guilt',\n",
       " 'joy',\n",
       " 'fear',\n",
       " 'anger',\n",
       " 'sadness',\n",
       " 'disgust',\n",
       " 'shame',\n",
       " 'guilt',\n",
       " 'joy',\n",
       " 'fear',\n",
       " 'anger',\n",
       " 'sadness',\n",
       " 'disgust',\n",
       " 'shame',\n",
       " 'guilt',\n",
       " 'joy',\n",
       " 'fear',\n",
       " 'anger',\n",
       " 'sadness',\n",
       " 'disgust',\n",
       " 'shame',\n",
       " 'guilt',\n",
       " 'joy',\n",
       " 'fear',\n",
       " 'anger',\n",
       " 'sadness',\n",
       " 'disgust',\n",
       " 'shame',\n",
       " 'guilt',\n",
       " 'joy',\n",
       " 'fear',\n",
       " 'anger',\n",
       " 'sadness',\n",
       " 'disgust',\n",
       " 'shame',\n",
       " 'guilt',\n",
       " 'joy',\n",
       " 'fear',\n",
       " 'anger',\n",
       " 'sadness',\n",
       " 'disgust',\n",
       " 'shame',\n",
       " 'guilt',\n",
       " 'joy',\n",
       " 'fear',\n",
       " 'anger',\n",
       " 'sadness',\n",
       " 'disgust',\n",
       " 'shame',\n",
       " 'guilt',\n",
       " 'joy',\n",
       " 'fear',\n",
       " 'anger',\n",
       " 'sadness',\n",
       " 'disgust',\n",
       " 'shame',\n",
       " 'guilt',\n",
       " 'joy',\n",
       " 'fear',\n",
       " 'anger',\n",
       " 'sadness',\n",
       " 'disgust',\n",
       " 'shame',\n",
       " 'guilt',\n",
       " 'joy',\n",
       " 'fear',\n",
       " 'anger',\n",
       " 'sadness',\n",
       " 'disgust',\n",
       " 'shame',\n",
       " 'guilt',\n",
       " 'joy',\n",
       " 'fear',\n",
       " 'anger',\n",
       " 'sadness',\n",
       " 'disgust',\n",
       " 'shame',\n",
       " 'guilt',\n",
       " 'joy',\n",
       " 'fear',\n",
       " 'anger',\n",
       " 'sadness',\n",
       " 'disgust',\n",
       " 'shame',\n",
       " 'guilt',\n",
       " 'joy',\n",
       " 'fear',\n",
       " 'anger',\n",
       " 'sadness',\n",
       " 'disgust',\n",
       " 'shame',\n",
       " 'guilt',\n",
       " 'joy',\n",
       " 'fear',\n",
       " 'anger',\n",
       " 'sadness',\n",
       " 'disgust',\n",
       " 'shame',\n",
       " 'guilt',\n",
       " 'joy',\n",
       " 'fear',\n",
       " 'anger',\n",
       " 'sadness',\n",
       " 'disgust',\n",
       " 'shame',\n",
       " 'guilt',\n",
       " 'joy',\n",
       " 'fear',\n",
       " 'anger',\n",
       " 'sadness',\n",
       " 'disgust',\n",
       " 'shame',\n",
       " 'guilt',\n",
       " 'disgust',\n",
       " 'shame',\n",
       " 'guilt',\n",
       " 'joy',\n",
       " 'fear',\n",
       " 'anger',\n",
       " 'sadness',\n",
       " 'disgust',\n",
       " 'guilt',\n",
       " 'joy',\n",
       " 'fear',\n",
       " 'anger',\n",
       " 'sadness',\n",
       " 'guilt',\n",
       " 'joy',\n",
       " 'fear',\n",
       " 'anger',\n",
       " 'sadness',\n",
       " 'joy',\n",
       " 'fear',\n",
       " 'anger',\n",
       " 'sadness',\n",
       " 'disgust',\n",
       " 'shame',\n",
       " 'guilt',\n",
       " 'joy',\n",
       " 'fear',\n",
       " 'anger',\n",
       " 'sadness',\n",
       " 'disgust',\n",
       " 'shame',\n",
       " 'guilt',\n",
       " 'joy',\n",
       " 'fear',\n",
       " 'anger',\n",
       " 'sadness',\n",
       " 'disgust',\n",
       " 'shame',\n",
       " 'guilt',\n",
       " 'joy',\n",
       " 'anger',\n",
       " 'sadness',\n",
       " 'disgust',\n",
       " 'shame',\n",
       " 'guilt',\n",
       " 'joy',\n",
       " 'fear',\n",
       " 'anger',\n",
       " 'sadness',\n",
       " 'disgust',\n",
       " 'shame',\n",
       " 'guilt',\n",
       " 'joy',\n",
       " 'fear',\n",
       " 'anger',\n",
       " 'joy',\n",
       " 'fear',\n",
       " 'anger',\n",
       " 'sadness',\n",
       " 'shame',\n",
       " 'guilt',\n",
       " 'joy',\n",
       " 'fear',\n",
       " 'anger',\n",
       " 'sadness',\n",
       " 'disgust',\n",
       " 'shame',\n",
       " 'joy',\n",
       " 'fear',\n",
       " 'anger',\n",
       " 'sadness',\n",
       " 'joy',\n",
       " 'fear',\n",
       " 'anger',\n",
       " 'sadness',\n",
       " 'guilt',\n",
       " 'joy',\n",
       " 'fear',\n",
       " 'anger',\n",
       " 'joy',\n",
       " 'fear',\n",
       " 'anger',\n",
       " 'sadness',\n",
       " 'guilt',\n",
       " 'sadness',\n",
       " 'joy',\n",
       " 'fear',\n",
       " 'anger',\n",
       " 'sadness',\n",
       " 'disgust',\n",
       " 'shame',\n",
       " 'guilt',\n",
       " 'joy',\n",
       " 'fear',\n",
       " 'anger',\n",
       " 'sadness',\n",
       " 'disgust',\n",
       " 'shame',\n",
       " 'guilt',\n",
       " 'joy',\n",
       " 'fear',\n",
       " 'anger',\n",
       " 'sadness',\n",
       " 'disgust',\n",
       " 'shame',\n",
       " 'guilt',\n",
       " 'joy',\n",
       " 'fear',\n",
       " 'anger',\n",
       " 'sadness',\n",
       " 'disgust',\n",
       " 'shame',\n",
       " 'guilt',\n",
       " 'joy',\n",
       " 'fear',\n",
       " 'anger',\n",
       " 'sadness',\n",
       " 'disgust',\n",
       " 'shame',\n",
       " 'guilt',\n",
       " 'joy',\n",
       " 'fear',\n",
       " 'anger',\n",
       " 'sadness',\n",
       " 'disgust',\n",
       " 'shame',\n",
       " 'guilt',\n",
       " 'joy',\n",
       " 'fear',\n",
       " 'anger',\n",
       " 'sadness',\n",
       " 'disgust',\n",
       " 'shame',\n",
       " 'guilt',\n",
       " 'joy',\n",
       " 'fear',\n",
       " 'anger',\n",
       " 'sadness',\n",
       " 'disgust',\n",
       " 'shame',\n",
       " 'guilt',\n",
       " 'joy',\n",
       " 'fear',\n",
       " 'anger',\n",
       " 'sadness',\n",
       " 'disgust',\n",
       " 'guilt',\n",
       " 'joy',\n",
       " 'fear',\n",
       " 'anger',\n",
       " 'sadness',\n",
       " 'disgust',\n",
       " 'shame',\n",
       " 'guilt',\n",
       " 'joy',\n",
       " 'fear',\n",
       " 'anger',\n",
       " 'sadness',\n",
       " 'disgust',\n",
       " 'shame',\n",
       " 'guilt',\n",
       " 'joy',\n",
       " 'fear',\n",
       " 'anger',\n",
       " 'sadness',\n",
       " 'disgust',\n",
       " 'shame',\n",
       " 'guilt',\n",
       " 'joy',\n",
       " 'fear',\n",
       " 'anger',\n",
       " 'sadness',\n",
       " 'disgust',\n",
       " 'shame',\n",
       " 'guilt',\n",
       " 'joy',\n",
       " 'fear',\n",
       " 'anger',\n",
       " 'sadness',\n",
       " 'disgust',\n",
       " 'shame',\n",
       " 'guilt',\n",
       " 'joy',\n",
       " 'fear',\n",
       " 'anger',\n",
       " 'sadness',\n",
       " 'disgust',\n",
       " 'shame',\n",
       " 'guilt',\n",
       " 'joy',\n",
       " 'fear',\n",
       " 'anger',\n",
       " 'sadness',\n",
       " 'disgust',\n",
       " 'shame',\n",
       " 'guilt',\n",
       " 'joy',\n",
       " 'fear',\n",
       " 'anger',\n",
       " 'sadness',\n",
       " 'disgust',\n",
       " 'shame',\n",
       " 'guilt',\n",
       " 'joy',\n",
       " 'fear',\n",
       " 'anger',\n",
       " 'sadness',\n",
       " 'disgust',\n",
       " 'shame',\n",
       " 'guilt',\n",
       " 'joy',\n",
       " 'fear',\n",
       " 'anger',\n",
       " 'sadness',\n",
       " 'disgust',\n",
       " 'shame',\n",
       " 'joy',\n",
       " 'fear',\n",
       " 'anger',\n",
       " 'sadness',\n",
       " 'disgust',\n",
       " 'shame',\n",
       " 'guilt',\n",
       " 'joy',\n",
       " 'fear',\n",
       " 'anger',\n",
       " 'sadness',\n",
       " 'disgust',\n",
       " 'shame',\n",
       " 'guilt',\n",
       " 'joy',\n",
       " 'fear',\n",
       " 'anger',\n",
       " 'sadness',\n",
       " 'disgust',\n",
       " 'shame',\n",
       " 'joy',\n",
       " 'fear',\n",
       " 'anger',\n",
       " 'sadness',\n",
       " 'disgust',\n",
       " 'shame',\n",
       " 'guilt',\n",
       " 'joy',\n",
       " 'fear',\n",
       " 'anger',\n",
       " 'sadness',\n",
       " 'disgust',\n",
       " 'shame',\n",
       " 'guilt',\n",
       " 'joy',\n",
       " 'fear',\n",
       " 'anger',\n",
       " 'sadness',\n",
       " 'disgust',\n",
       " 'shame',\n",
       " 'guilt',\n",
       " 'joy',\n",
       " 'fear',\n",
       " 'anger',\n",
       " 'sadness',\n",
       " 'disgust',\n",
       " 'shame',\n",
       " 'guilt',\n",
       " 'joy',\n",
       " 'fear',\n",
       " 'anger',\n",
       " 'sadness',\n",
       " 'disgust',\n",
       " 'shame',\n",
       " 'guilt',\n",
       " 'joy',\n",
       " 'fear',\n",
       " 'anger',\n",
       " 'sadness',\n",
       " 'disgust',\n",
       " 'shame',\n",
       " 'guilt',\n",
       " 'joy',\n",
       " 'fear',\n",
       " 'anger',\n",
       " 'sadness',\n",
       " 'disgust',\n",
       " 'shame',\n",
       " 'guilt',\n",
       " 'joy',\n",
       " 'fear',\n",
       " 'anger',\n",
       " 'sadness',\n",
       " 'disgust',\n",
       " 'shame',\n",
       " 'guilt',\n",
       " 'joy',\n",
       " 'fear',\n",
       " 'anger',\n",
       " 'sadness',\n",
       " 'disgust',\n",
       " 'shame',\n",
       " 'guilt',\n",
       " 'joy',\n",
       " 'fear',\n",
       " 'anger',\n",
       " 'sadness',\n",
       " 'disgust',\n",
       " 'shame',\n",
       " 'guilt',\n",
       " 'joy',\n",
       " 'fear',\n",
       " 'anger',\n",
       " 'sadness',\n",
       " 'disgust',\n",
       " 'shame',\n",
       " 'guilt',\n",
       " 'joy',\n",
       " 'fear',\n",
       " 'sadness',\n",
       " 'disgust',\n",
       " 'shame',\n",
       " 'guilt',\n",
       " 'joy',\n",
       " 'fear',\n",
       " 'anger',\n",
       " 'sadness',\n",
       " 'disgust',\n",
       " 'shame',\n",
       " 'guilt',\n",
       " 'joy',\n",
       " 'fear',\n",
       " 'joy',\n",
       " 'fear',\n",
       " 'anger',\n",
       " 'joy',\n",
       " 'fear',\n",
       " 'anger',\n",
       " 'sadness',\n",
       " 'guilt',\n",
       " 'joy',\n",
       " 'joy',\n",
       " 'fear',\n",
       " 'anger',\n",
       " 'sadness',\n",
       " 'disgust',\n",
       " 'shame',\n",
       " 'guilt',\n",
       " 'joy',\n",
       " 'fear',\n",
       " 'anger',\n",
       " 'sadness',\n",
       " 'disgust',\n",
       " 'shame',\n",
       " 'guilt',\n",
       " 'joy',\n",
       " 'fear',\n",
       " 'anger',\n",
       " 'sadness',\n",
       " 'disgust',\n",
       " 'shame',\n",
       " 'guilt',\n",
       " 'fear',\n",
       " 'fear',\n",
       " 'anger',\n",
       " 'sadness',\n",
       " 'disgust',\n",
       " 'shame',\n",
       " 'guilt',\n",
       " 'joy',\n",
       " 'fear',\n",
       " 'anger',\n",
       " 'sadness',\n",
       " 'disgust',\n",
       " 'shame',\n",
       " 'guilt',\n",
       " 'joy',\n",
       " 'fear',\n",
       " 'anger',\n",
       " 'sadness',\n",
       " 'disgust',\n",
       " 'shame',\n",
       " 'guilt',\n",
       " 'joy',\n",
       " 'fear',\n",
       " 'guilt',\n",
       " 'joy',\n",
       " 'fear',\n",
       " 'anger',\n",
       " 'sadness',\n",
       " 'disgust',\n",
       " 'shame',\n",
       " 'guilt',\n",
       " 'joy',\n",
       " 'fear',\n",
       " 'anger',\n",
       " 'sadness',\n",
       " 'disgust',\n",
       " 'shame',\n",
       " 'guilt',\n",
       " 'fear',\n",
       " 'anger',\n",
       " 'sadness',\n",
       " 'disgust',\n",
       " 'shame',\n",
       " 'guilt',\n",
       " 'fear',\n",
       " 'anger',\n",
       " 'sadness',\n",
       " 'disgust',\n",
       " 'shame',\n",
       " 'guilt',\n",
       " 'joy',\n",
       " 'fear',\n",
       " 'anger',\n",
       " 'sadness',\n",
       " 'disgust',\n",
       " 'fear',\n",
       " 'anger',\n",
       " 'sadness',\n",
       " 'disgust',\n",
       " 'guilt',\n",
       " 'joy',\n",
       " 'fear',\n",
       " 'anger',\n",
       " 'sadness',\n",
       " 'joy',\n",
       " 'fear',\n",
       " 'disgust',\n",
       " 'guilt',\n",
       " 'joy',\n",
       " 'fear',\n",
       " 'anger',\n",
       " 'sadness',\n",
       " 'disgust',\n",
       " 'guilt',\n",
       " 'joy',\n",
       " 'fear',\n",
       " 'anger',\n",
       " 'sadness',\n",
       " 'disgust',\n",
       " 'shame',\n",
       " 'joy',\n",
       " 'fear',\n",
       " 'disgust',\n",
       " 'guilt',\n",
       " 'joy',\n",
       " 'fear',\n",
       " 'anger',\n",
       " 'disgust',\n",
       " 'guilt',\n",
       " 'joy',\n",
       " 'fear',\n",
       " 'anger',\n",
       " 'sadness',\n",
       " 'disgust',\n",
       " 'guilt',\n",
       " 'joy',\n",
       " 'fear',\n",
       " 'anger',\n",
       " 'sadness',\n",
       " 'disgust',\n",
       " 'guilt',\n",
       " 'joy',\n",
       " 'fear',\n",
       " 'sadness',\n",
       " 'disgust',\n",
       " 'joy',\n",
       " 'fear',\n",
       " 'anger',\n",
       " 'sadness',\n",
       " 'disgust',\n",
       " 'guilt',\n",
       " 'joy',\n",
       " 'fear',\n",
       " 'anger',\n",
       " 'sadness',\n",
       " 'joy',\n",
       " 'fear',\n",
       " 'anger',\n",
       " 'sadness',\n",
       " 'disgust',\n",
       " 'shame',\n",
       " 'guilt',\n",
       " 'joy',\n",
       " 'fear',\n",
       " 'anger',\n",
       " 'sadness',\n",
       " 'shame',\n",
       " 'guilt',\n",
       " 'joy',\n",
       " 'fear',\n",
       " 'anger',\n",
       " 'sadness',\n",
       " 'disgust',\n",
       " 'shame',\n",
       " 'guilt',\n",
       " 'joy',\n",
       " 'fear',\n",
       " 'anger',\n",
       " 'sadness',\n",
       " 'disgust',\n",
       " 'shame',\n",
       " 'joy',\n",
       " 'fear',\n",
       " 'anger',\n",
       " 'sadness',\n",
       " 'disgust',\n",
       " 'shame',\n",
       " 'guilt',\n",
       " 'joy',\n",
       " 'fear',\n",
       " 'anger',\n",
       " 'sadness',\n",
       " 'shame',\n",
       " 'guilt',\n",
       " 'joy',\n",
       " 'fear',\n",
       " 'anger',\n",
       " 'sadness',\n",
       " 'disgust',\n",
       " 'shame',\n",
       " 'guilt',\n",
       " 'joy',\n",
       " 'fear',\n",
       " 'anger',\n",
       " 'sadness',\n",
       " 'disgust',\n",
       " 'shame',\n",
       " 'guilt',\n",
       " 'joy',\n",
       " 'fear',\n",
       " 'anger',\n",
       " 'sadness',\n",
       " 'shame',\n",
       " 'guilt',\n",
       " 'joy',\n",
       " 'fear',\n",
       " 'anger',\n",
       " 'sadness',\n",
       " 'disgust',\n",
       " 'shame',\n",
       " 'guilt',\n",
       " 'joy',\n",
       " 'fear',\n",
       " 'anger',\n",
       " 'sadness',\n",
       " 'disgust',\n",
       " 'shame',\n",
       " 'guilt',\n",
       " 'fear',\n",
       " 'anger',\n",
       " 'sadness',\n",
       " 'shame',\n",
       " 'guilt',\n",
       " 'joy',\n",
       " 'fear',\n",
       " 'anger',\n",
       " 'sadness',\n",
       " 'disgust',\n",
       " 'shame',\n",
       " 'guilt',\n",
       " 'joy',\n",
       " 'anger',\n",
       " 'sadness',\n",
       " 'disgust',\n",
       " 'shame',\n",
       " 'joy',\n",
       " 'fear',\n",
       " 'anger',\n",
       " 'sadness',\n",
       " 'disgust',\n",
       " 'shame',\n",
       " 'guilt',\n",
       " 'joy',\n",
       " 'fear',\n",
       " 'anger',\n",
       " 'sadness',\n",
       " 'shame',\n",
       " 'guilt',\n",
       " 'joy',\n",
       " 'anger',\n",
       " 'sadness',\n",
       " 'guilt',\n",
       " 'joy',\n",
       " 'fear',\n",
       " 'anger',\n",
       " 'sadness',\n",
       " 'guilt',\n",
       " 'joy',\n",
       " 'fear',\n",
       " 'anger',\n",
       " 'sadness',\n",
       " 'disgust',\n",
       " 'shame',\n",
       " 'guilt',\n",
       " 'joy',\n",
       " 'fear',\n",
       " 'anger',\n",
       " 'sadness',\n",
       " 'disgust',\n",
       " 'shame',\n",
       " 'guilt',\n",
       " 'joy',\n",
       " 'fear',\n",
       " 'anger',\n",
       " 'sadness',\n",
       " 'disgust',\n",
       " 'shame',\n",
       " 'guilt',\n",
       " 'joy',\n",
       " 'fear',\n",
       " 'anger',\n",
       " 'sadness',\n",
       " 'disgust',\n",
       " 'shame',\n",
       " 'guilt',\n",
       " 'joy',\n",
       " 'fear',\n",
       " 'anger',\n",
       " 'sadness',\n",
       " 'shame',\n",
       " 'guilt',\n",
       " 'joy',\n",
       " 'fear',\n",
       " 'anger',\n",
       " 'sadness',\n",
       " 'disgust',\n",
       " 'shame',\n",
       " 'guilt',\n",
       " 'joy',\n",
       " 'fear',\n",
       " 'anger',\n",
       " 'sadness',\n",
       " 'shame',\n",
       " 'guilt',\n",
       " 'joy',\n",
       " 'fear',\n",
       " 'anger',\n",
       " 'sadness',\n",
       " 'disgust',\n",
       " 'shame',\n",
       " 'guilt',\n",
       " 'joy',\n",
       " 'fear',\n",
       " 'anger',\n",
       " 'sadness',\n",
       " 'disgust',\n",
       " 'shame',\n",
       " 'guilt',\n",
       " 'joy',\n",
       " 'fear',\n",
       " 'anger',\n",
       " 'sadness',\n",
       " 'disgust',\n",
       " 'shame',\n",
       " 'guilt',\n",
       " 'joy',\n",
       " 'fear',\n",
       " 'anger',\n",
       " 'sadness',\n",
       " 'disgust',\n",
       " 'shame',\n",
       " 'guilt',\n",
       " 'joy',\n",
       " 'fear',\n",
       " 'anger',\n",
       " 'sadness',\n",
       " 'disgust',\n",
       " 'shame',\n",
       " 'guilt',\n",
       " 'joy',\n",
       " 'fear',\n",
       " 'anger',\n",
       " 'sadness',\n",
       " 'shame',\n",
       " 'guilt',\n",
       " 'joy',\n",
       " 'fear',\n",
       " 'anger',\n",
       " 'sadness',\n",
       " 'disgust',\n",
       " 'shame',\n",
       " 'guilt',\n",
       " 'joy',\n",
       " 'fear',\n",
       " 'anger',\n",
       " 'sadness',\n",
       " 'disgust',\n",
       " 'shame',\n",
       " 'guilt',\n",
       " 'joy',\n",
       " 'fear',\n",
       " 'anger',\n",
       " 'sadness',\n",
       " 'disgust',\n",
       " 'shame',\n",
       " 'guilt',\n",
       " 'joy',\n",
       " 'fear',\n",
       " 'anger',\n",
       " 'sadness',\n",
       " 'disgust',\n",
       " 'shame',\n",
       " 'guilt',\n",
       " 'joy',\n",
       " 'fear',\n",
       " 'anger',\n",
       " 'sadness',\n",
       " 'disgust',\n",
       " 'shame',\n",
       " 'guilt',\n",
       " 'joy',\n",
       " 'fear',\n",
       " 'anger',\n",
       " 'sadness',\n",
       " 'disgust',\n",
       " 'shame',\n",
       " 'guilt',\n",
       " 'joy',\n",
       " 'fear',\n",
       " 'anger',\n",
       " 'sadness',\n",
       " 'disgust',\n",
       " 'shame',\n",
       " 'guilt',\n",
       " 'joy',\n",
       " 'fear',\n",
       " 'anger',\n",
       " 'sadness',\n",
       " 'disgust',\n",
       " 'shame',\n",
       " 'guilt',\n",
       " 'joy',\n",
       " 'fear',\n",
       " 'anger',\n",
       " 'sadness',\n",
       " 'disgust',\n",
       " 'shame',\n",
       " 'guilt',\n",
       " 'joy',\n",
       " 'fear',\n",
       " 'anger',\n",
       " 'sadness',\n",
       " 'disgust',\n",
       " 'shame',\n",
       " 'guilt',\n",
       " 'joy',\n",
       " 'fear',\n",
       " 'anger',\n",
       " 'sadness',\n",
       " 'disgust',\n",
       " 'shame',\n",
       " 'guilt',\n",
       " 'joy',\n",
       " 'fear',\n",
       " 'anger',\n",
       " 'sadness',\n",
       " 'disgust',\n",
       " 'shame',\n",
       " 'guilt',\n",
       " 'joy',\n",
       " 'fear',\n",
       " 'anger',\n",
       " 'sadness',\n",
       " 'disgust',\n",
       " 'shame',\n",
       " 'guilt',\n",
       " 'joy',\n",
       " 'fear',\n",
       " 'anger',\n",
       " 'sadness',\n",
       " 'disgust',\n",
       " 'shame',\n",
       " 'guilt',\n",
       " 'joy',\n",
       " 'fear',\n",
       " 'anger',\n",
       " 'sadness',\n",
       " 'disgust',\n",
       " 'shame',\n",
       " 'guilt',\n",
       " 'joy',\n",
       " 'fear',\n",
       " 'anger',\n",
       " 'sadness',\n",
       " 'disgust',\n",
       " 'shame',\n",
       " 'guilt',\n",
       " 'joy',\n",
       " 'fear',\n",
       " 'anger',\n",
       " 'sadness',\n",
       " 'disgust',\n",
       " 'shame',\n",
       " 'guilt',\n",
       " 'fear',\n",
       " 'anger',\n",
       " 'sadness',\n",
       " 'disgust',\n",
       " 'shame',\n",
       " 'guilt',\n",
       " 'joy',\n",
       " 'fear',\n",
       " 'anger',\n",
       " 'sadness',\n",
       " 'disgust',\n",
       " 'shame',\n",
       " 'guilt',\n",
       " 'joy',\n",
       " 'fear',\n",
       " 'anger',\n",
       " 'sadness',\n",
       " 'disgust',\n",
       " 'shame',\n",
       " 'guilt',\n",
       " 'joy',\n",
       " 'fear',\n",
       " 'anger',\n",
       " 'sadness',\n",
       " 'disgust',\n",
       " 'shame',\n",
       " 'guilt',\n",
       " 'joy',\n",
       " 'fear',\n",
       " 'anger',\n",
       " 'sadness',\n",
       " 'disgust',\n",
       " 'shame',\n",
       " 'guilt',\n",
       " 'joy',\n",
       " 'fear',\n",
       " 'anger',\n",
       " 'sadness',\n",
       " 'disgust',\n",
       " 'shame',\n",
       " 'guilt',\n",
       " 'joy',\n",
       " 'fear',\n",
       " 'anger',\n",
       " 'sadness',\n",
       " 'disgust',\n",
       " 'shame',\n",
       " 'guilt',\n",
       " 'joy',\n",
       " 'fear',\n",
       " 'anger',\n",
       " 'sadness',\n",
       " 'disgust',\n",
       " 'shame',\n",
       " ...]"
      ]
     },
     "execution_count": 9,
     "metadata": {},
     "output_type": "execute_result"
    }
   ],
   "source": [
    "labels = []\n",
    "for v in y:\n",
    "    labels.append(target[v.index(1)])\n",
    "labels"
   ]
  },
  {
   "cell_type": "code",
   "execution_count": 10,
   "id": "42509d92",
   "metadata": {
    "execution": {
     "iopub.execute_input": "2024-02-11T06:33:55.900308Z",
     "iopub.status.busy": "2024-02-11T06:33:55.899867Z",
     "iopub.status.idle": "2024-02-11T06:33:56.207634Z",
     "shell.execute_reply": "2024-02-11T06:33:56.206152Z"
    },
    "papermill": {
     "duration": 0.322581,
     "end_time": "2024-02-11T06:33:56.210669",
     "exception": false,
     "start_time": "2024-02-11T06:33:55.888088",
     "status": "completed"
    },
    "tags": []
   },
   "outputs": [
    {
     "data": {
      "text/plain": [
       "<Axes: >"
      ]
     },
     "execution_count": 10,
     "metadata": {},
     "output_type": "execute_result"
    },
    {
     "data": {
      "image/png": "[encoded data removed]",
      "text/plain": [
       "<Figure size 640x480 with 1 Axes>"
      ]
     },
     "metadata": {},
     "output_type": "display_data"
    }
   ],
   "source": [
    "df = pd.DataFrame(data=X)\n",
    "df.rename({0:\"content\"},axis=1,inplace=True)\n",
    "df['labels']=labels\n",
    "df['labels'].hist()"
   ]
  },
  {
   "cell_type": "code",
   "execution_count": 11,
   "id": "fb443cc4",
   "metadata": {
    "execution": {
     "iopub.execute_input": "2024-02-11T06:33:56.234157Z",
     "iopub.status.busy": "2024-02-11T06:33:56.233712Z",
     "iopub.status.idle": "2024-02-11T06:33:56.251122Z",
     "shell.execute_reply": "2024-02-11T06:33:56.249643Z"
    },
    "papermill": {
     "duration": 0.032394,
     "end_time": "2024-02-11T06:33:56.253831",
     "exception": false,
     "start_time": "2024-02-11T06:33:56.221437",
     "status": "completed"
    },
    "tags": []
   },
   "outputs": [
    {
     "data": {
      "text/plain": [
       "labels\n",
       "joy        1084\n",
       "anger      1080\n",
       "sadness    1079\n",
       "fear       1078\n",
       "disgust    1057\n",
       "guilt      1057\n",
       "shame      1045\n",
       "Name: count, dtype: int64"
      ]
     },
     "execution_count": 11,
     "metadata": {},
     "output_type": "execute_result"
    }
   ],
   "source": [
    "df['labels'].value_counts()"
   ]
  },
  {
   "cell_type": "code",
   "execution_count": 12,
   "id": "07f3f58f",
   "metadata": {
    "execution": {
     "iopub.execute_input": "2024-02-11T06:33:56.278894Z",
     "iopub.status.busy": "2024-02-11T06:33:56.278451Z",
     "iopub.status.idle": "2024-02-11T06:33:56.286619Z",
     "shell.execute_reply": "2024-02-11T06:33:56.285143Z"
    },
    "papermill": {
     "duration": 0.023787,
     "end_time": "2024-02-11T06:33:56.289663",
     "exception": false,
     "start_time": "2024-02-11T06:33:56.265876",
     "status": "completed"
    },
    "tags": []
   },
   "outputs": [],
   "source": [
    "nums = [v.index(1) for v in y]"
   ]
  },
  {
   "cell_type": "code",
   "execution_count": 13,
   "id": "bff2f950",
   "metadata": {
    "execution": {
     "iopub.execute_input": "2024-02-11T06:33:56.313363Z",
     "iopub.status.busy": "2024-02-11T06:33:56.312918Z",
     "iopub.status.idle": "2024-02-11T06:33:56.493208Z",
     "shell.execute_reply": "2024-02-11T06:33:56.491791Z"
    },
    "papermill": {
     "duration": 0.195685,
     "end_time": "2024-02-11T06:33:56.496197",
     "exception": false,
     "start_time": "2024-02-11T06:33:56.300512",
     "status": "completed"
    },
    "tags": []
   },
   "outputs": [],
   "source": [
    "from sklearn.feature_extraction.text import TfidfVectorizer\n",
    "\n",
    "tfidf = TfidfVectorizer()\n",
    "X_mod = tfidf.fit_transform(X)"
   ]
  },
  {
   "cell_type": "code",
   "execution_count": 14,
   "id": "1ffed227",
   "metadata": {
    "execution": {
     "iopub.execute_input": "2024-02-11T06:33:56.519772Z",
     "iopub.status.busy": "2024-02-11T06:33:56.519303Z",
     "iopub.status.idle": "2024-02-11T06:33:56.534672Z",
     "shell.execute_reply": "2024-02-11T06:33:56.533480Z"
    },
    "papermill": {
     "duration": 0.030409,
     "end_time": "2024-02-11T06:33:56.537397",
     "exception": false,
     "start_time": "2024-02-11T06:33:56.506988",
     "status": "completed"
    },
    "tags": []
   },
   "outputs": [],
   "source": [
    "from sklearn.linear_model import LogisticRegression\n",
    "from sklearn.svm import SVC\n",
    "from sklearn.naive_bayes import MultinomialNB\n",
    "from sklearn.model_selection import train_test_split\n",
    "\n",
    "X_train,X_test,y_train,y_test = train_test_split(X_mod,nums,test_size=0.4,random_state=42)\n",
    "lr = LogisticRegression()\n",
    "svm = SVC()\n",
    "mnb = MultinomialNB()"
   ]
  },
  {
   "cell_type": "code",
   "execution_count": 15,
   "id": "2aa256da",
   "metadata": {
    "execution": {
     "iopub.execute_input": "2024-02-11T06:33:56.561386Z",
     "iopub.status.busy": "2024-02-11T06:33:56.560249Z",
     "iopub.status.idle": "2024-02-11T06:33:59.258197Z",
     "shell.execute_reply": "2024-02-11T06:33:59.256237Z"
    },
    "papermill": {
     "duration": 2.714371,
     "end_time": "2024-02-11T06:33:59.262377",
     "exception": false,
     "start_time": "2024-02-11T06:33:56.548006",
     "status": "completed"
    },
    "tags": []
   },
   "outputs": [
    {
     "data": {
      "text/html": [
       "<style>#sk-container-id-1 {color: black;background-color: white;}#sk-container-id-1 pre{padding: 0;}#sk-container-id-1 div.sk-toggleable {background-color: white;}#sk-container-id-1 label.sk-toggleable__label {cursor: pointer;display: block;width: 100%;margin-bottom: 0;padding: 0.3em;box-sizing: border-box;text-align: center;}#sk-container-id-1 label.sk-toggleable__label-arrow:before {content: \"▸\";float: left;margin-right: 0.25em;color: #696969;}#sk-container-id-1 label.sk-toggleable__label-arrow:hover:before {color: black;}#sk-container-id-1 div.sk-estimator:hover label.sk-toggleable__label-arrow:before {color: black;}#sk-container-id-1 div.sk-toggleable__content {max-height: 0;max-width: 0;overflow: hidden;text-align: left;background-color: #f0f8ff;}#sk-container-id-1 div.sk-toggleable__content pre {margin: 0.2em;color: black;border-radius: 0.25em;background-color: #f0f8ff;}#sk-container-id-1 input.sk-toggleable__control:checked~div.sk-toggleable__content {max-height: 200px;max-width: 100%;overflow: auto;}#sk-container-id-1 input.sk-toggleable__control:checked~label.sk-toggleable__label-arrow:before {content: \"▾\";}#sk-container-id-1 div.sk-estimator input.sk-toggleable__control:checked~label.sk-toggleable__label {background-color: #d4ebff;}#sk-container-id-1 div.sk-label input.sk-toggleable__control:checked~label.sk-toggleable__label {background-color: #d4ebff;}#sk-container-id-1 input.sk-hidden--visually {border: 0;clip: rect(1px 1px 1px 1px);clip: rect(1px, 1px, 1px, 1px);height: 1px;margin: -1px;overflow: hidden;padding: 0;position: absolute;width: 1px;}#sk-container-id-1 div.sk-estimator {font-family: monospace;background-color: #f0f8ff;border: 1px dotted black;border-radius: 0.25em;box-sizing: border-box;margin-bottom: 0.5em;}#sk-container-id-1 div.sk-estimator:hover {background-color: #d4ebff;}#sk-container-id-1 div.sk-parallel-item::after {content: \"\";width: 100%;border-bottom: 1px solid gray;flex-grow: 1;}#sk-container-id-1 div.sk-label:hover label.sk-toggleable__label {background-color: #d4ebff;}#sk-container-id-1 div.sk-serial::before {content: \"\";position: absolute;border-left: 1px solid gray;box-sizing: border-box;top: 0;bottom: 0;left: 50%;z-index: 0;}#sk-container-id-1 div.sk-serial {display: flex;flex-direction: column;align-items: center;background-color: white;padding-right: 0.2em;padding-left: 0.2em;position: relative;}#sk-container-id-1 div.sk-item {position: relative;z-index: 1;}#sk-container-id-1 div.sk-parallel {display: flex;align-items: stretch;justify-content: center;background-color: white;position: relative;}#sk-container-id-1 div.sk-item::before, #sk-container-id-1 div.sk-parallel-item::before {content: \"\";position: absolute;border-left: 1px solid gray;box-sizing: border-box;top: 0;bottom: 0;left: 50%;z-index: -1;}#sk-container-id-1 div.sk-parallel-item {display: flex;flex-direction: column;z-index: 1;position: relative;background-color: white;}#sk-container-id-1 div.sk-parallel-item:first-child::after {align-self: flex-end;width: 50%;}#sk-container-id-1 div.sk-parallel-item:last-child::after {align-self: flex-start;width: 50%;}#sk-container-id-1 div.sk-parallel-item:only-child::after {width: 0;}#sk-container-id-1 div.sk-dashed-wrapped {border: 1px dashed gray;margin: 0 0.4em 0.5em 0.4em;box-sizing: border-box;padding-bottom: 0.4em;background-color: white;}#sk-container-id-1 div.sk-label label {font-family: monospace;font-weight: bold;display: inline-block;line-height: 1.2em;}#sk-container-id-1 div.sk-label-container {text-align: center;}#sk-container-id-1 div.sk-container {/* jupyter's `normalize.less` sets `[hidden] { display: none; }` but bootstrap.min.css set `[hidden] { display: none !important; }` so we also need the `!important` here to be able to override the default hidden behavior on the sphinx rendered scikit-learn.org. See: https://github.com/scikit-learn/scikit-learn/issues/21755 */display: inline-block !important;position: relative;}#sk-container-id-1 div.sk-text-repr-fallback {display: none;}</style><div id=\"sk-container-id-1\" class=\"sk-top-container\"><div class=\"sk-text-repr-fallback\"><pre>LogisticRegression()</pre><b>In a Jupyter environment, please rerun this cell to show the HTML representation or trust the notebook. <br />On GitHub, the HTML representation is unable to render, please try loading this page with nbviewer.org.</b></div><div class=\"sk-container\" hidden><div class=\"sk-item\"><div class=\"sk-estimator sk-toggleable\"><input class=\"sk-toggleable__control sk-hidden--visually\" id=\"sk-estimator-id-1\" type=\"checkbox\" checked><label for=\"sk-estimator-id-1\" class=\"sk-toggleable__label sk-toggleable__label-arrow\">LogisticRegression</label><div class=\"sk-toggleable__content\"><pre>LogisticRegression()</pre></div></div></div></div></div>"
      ],
      "text/plain": [
       "LogisticRegression()"
      ]
     },
     "execution_count": 15,
     "metadata": {},
     "output_type": "execute_result"
    }
   ],
   "source": [
    "lr.fit(X_train,y_train)"
   ]
  },
  {
   "cell_type": "code",
   "execution_count": 16,
   "id": "c7ffc9e8",
   "metadata": {
    "execution": {
     "iopub.execute_input": "2024-02-11T06:33:59.343566Z",
     "iopub.status.busy": "2024-02-11T06:33:59.343037Z",
     "iopub.status.idle": "2024-02-11T06:33:59.359714Z",
     "shell.execute_reply": "2024-02-11T06:33:59.358144Z"
    },
    "papermill": {
     "duration": 0.044861,
     "end_time": "2024-02-11T06:33:59.362781",
     "exception": false,
     "start_time": "2024-02-11T06:33:59.317920",
     "status": "completed"
    },
    "tags": []
   },
   "outputs": [
    {
     "data": {
      "text/plain": [
       "(0.5584893048128342, 0.8676470588235294)"
      ]
     },
     "execution_count": 16,
     "metadata": {},
     "output_type": "execute_result"
    }
   ],
   "source": [
    "from sklearn.metrics import accuracy_score\n",
    "accuracy_score(lr.predict(X_test),y_test),accuracy_score(lr.predict(X_train),y_train)"
   ]
  },
  {
   "cell_type": "code",
   "execution_count": 17,
   "id": "5724efb5",
   "metadata": {
    "execution": {
     "iopub.execute_input": "2024-02-11T06:33:59.388522Z",
     "iopub.status.busy": "2024-02-11T06:33:59.387753Z",
     "iopub.status.idle": "2024-02-11T06:34:03.630495Z",
     "shell.execute_reply": "2024-02-11T06:34:03.629232Z"
    },
    "papermill": {
     "duration": 4.258658,
     "end_time": "2024-02-11T06:34:03.633055",
     "exception": false,
     "start_time": "2024-02-11T06:33:59.374397",
     "status": "completed"
    },
    "tags": []
   },
   "outputs": [
    {
     "data": {
      "text/html": [
       "<style>#sk-container-id-2 {color: black;background-color: white;}#sk-container-id-2 pre{padding: 0;}#sk-container-id-2 div.sk-toggleable {background-color: white;}#sk-container-id-2 label.sk-toggleable__label {cursor: pointer;display: block;width: 100%;margin-bottom: 0;padding: 0.3em;box-sizing: border-box;text-align: center;}#sk-container-id-2 label.sk-toggleable__label-arrow:before {content: \"▸\";float: left;margin-right: 0.25em;color: #696969;}#sk-container-id-2 label.sk-toggleable__label-arrow:hover:before {color: black;}#sk-container-id-2 div.sk-estimator:hover label.sk-toggleable__label-arrow:before {color: black;}#sk-container-id-2 div.sk-toggleable__content {max-height: 0;max-width: 0;overflow: hidden;text-align: left;background-color: #f0f8ff;}#sk-container-id-2 div.sk-toggleable__content pre {margin: 0.2em;color: black;border-radius: 0.25em;background-color: #f0f8ff;}#sk-container-id-2 input.sk-toggleable__control:checked~div.sk-toggleable__content {max-height: 200px;max-width: 100%;overflow: auto;}#sk-container-id-2 input.sk-toggleable__control:checked~label.sk-toggleable__label-arrow:before {content: \"▾\";}#sk-container-id-2 div.sk-estimator input.sk-toggleable__control:checked~label.sk-toggleable__label {background-color: #d4ebff;}#sk-container-id-2 div.sk-label input.sk-toggleable__control:checked~label.sk-toggleable__label {background-color: #d4ebff;}#sk-container-id-2 input.sk-hidden--visually {border: 0;clip: rect(1px 1px 1px 1px);clip: rect(1px, 1px, 1px, 1px);height: 1px;margin: -1px;overflow: hidden;padding: 0;position: absolute;width: 1px;}#sk-container-id-2 div.sk-estimator {font-family: monospace;background-color: #f0f8ff;border: 1px dotted black;border-radius: 0.25em;box-sizing: border-box;margin-bottom: 0.5em;}#sk-container-id-2 div.sk-estimator:hover {background-color: #d4ebff;}#sk-container-id-2 div.sk-parallel-item::after {content: \"\";width: 100%;border-bottom: 1px solid gray;flex-grow: 1;}#sk-container-id-2 div.sk-label:hover label.sk-toggleable__label {background-color: #d4ebff;}#sk-container-id-2 div.sk-serial::before {content: \"\";position: absolute;border-left: 1px solid gray;box-sizing: border-box;top: 0;bottom: 0;left: 50%;z-index: 0;}#sk-container-id-2 div.sk-serial {display: flex;flex-direction: column;align-items: center;background-color: white;padding-right: 0.2em;padding-left: 0.2em;position: relative;}#sk-container-id-2 div.sk-item {position: relative;z-index: 1;}#sk-container-id-2 div.sk-parallel {display: flex;align-items: stretch;justify-content: center;background-color: white;position: relative;}#sk-container-id-2 div.sk-item::before, #sk-container-id-2 div.sk-parallel-item::before {content: \"\";position: absolute;border-left: 1px solid gray;box-sizing: border-box;top: 0;bottom: 0;left: 50%;z-index: -1;}#sk-container-id-2 div.sk-parallel-item {display: flex;flex-direction: column;z-index: 1;position: relative;background-color: white;}#sk-container-id-2 div.sk-parallel-item:first-child::after {align-self: flex-end;width: 50%;}#sk-container-id-2 div.sk-parallel-item:last-child::after {align-self: flex-start;width: 50%;}#sk-container-id-2 div.sk-parallel-item:only-child::after {width: 0;}#sk-container-id-2 div.sk-dashed-wrapped {border: 1px dashed gray;margin: 0 0.4em 0.5em 0.4em;box-sizing: border-box;padding-bottom: 0.4em;background-color: white;}#sk-container-id-2 div.sk-label label {font-family: monospace;font-weight: bold;display: inline-block;line-height: 1.2em;}#sk-container-id-2 div.sk-label-container {text-align: center;}#sk-container-id-2 div.sk-container {/* jupyter's `normalize.less` sets `[hidden] { display: none; }` but bootstrap.min.css set `[hidden] { display: none !important; }` so we also need the `!important` here to be able to override the default hidden behavior on the sphinx rendered scikit-learn.org. See: https://github.com/scikit-learn/scikit-learn/issues/21755 */display: inline-block !important;position: relative;}#sk-container-id-2 div.sk-text-repr-fallback {display: none;}</style><div id=\"sk-container-id-2\" class=\"sk-top-container\"><div class=\"sk-text-repr-fallback\"><pre>SVC()</pre><b>In a Jupyter environment, please rerun this cell to show the HTML representation or trust the notebook. <br />On GitHub, the HTML representation is unable to render, please try loading this page with nbviewer.org.</b></div><div class=\"sk-container\" hidden><div class=\"sk-item\"><div class=\"sk-estimator sk-toggleable\"><input class=\"sk-toggleable__control sk-hidden--visually\" id=\"sk-estimator-id-2\" type=\"checkbox\" checked><label for=\"sk-estimator-id-2\" class=\"sk-toggleable__label sk-toggleable__label-arrow\">SVC</label><div class=\"sk-toggleable__content\"><pre>SVC()</pre></div></div></div></div></div>"
      ],
      "text/plain": [
       "SVC()"
      ]
     },
     "execution_count": 17,
     "metadata": {},
     "output_type": "execute_result"
    }
   ],
   "source": [
    "svm.fit(X_train,y_train)"
   ]
  },
  {
   "cell_type": "code",
   "execution_count": 18,
   "id": "81767547",
   "metadata": {
    "execution": {
     "iopub.execute_input": "2024-02-11T06:34:03.659622Z",
     "iopub.status.busy": "2024-02-11T06:34:03.658441Z",
     "iopub.status.idle": "2024-02-11T06:34:05.410274Z",
     "shell.execute_reply": "2024-02-11T06:34:05.409144Z"
    },
    "papermill": {
     "duration": 1.768636,
     "end_time": "2024-02-11T06:34:05.413257",
     "exception": false,
     "start_time": "2024-02-11T06:34:03.644621",
     "status": "completed"
    },
    "tags": []
   },
   "outputs": [
    {
     "data": {
      "text/plain": [
       "0.5481283422459893"
      ]
     },
     "execution_count": 18,
     "metadata": {},
     "output_type": "execute_result"
    }
   ],
   "source": [
    "accuracy_score(svm.predict(X_test),y_test)"
   ]
  },
  {
   "cell_type": "code",
   "execution_count": 19,
   "id": "a1db5700",
   "metadata": {
    "execution": {
     "iopub.execute_input": "2024-02-11T06:34:05.440015Z",
     "iopub.status.busy": "2024-02-11T06:34:05.439555Z",
     "iopub.status.idle": "2024-02-11T06:34:06.716923Z",
     "shell.execute_reply": "2024-02-11T06:34:06.715575Z"
    },
    "papermill": {
     "duration": 1.294707,
     "end_time": "2024-02-11T06:34:06.719838",
     "exception": false,
     "start_time": "2024-02-11T06:34:05.425131",
     "status": "completed"
    },
    "tags": []
   },
   "outputs": [
    {
     "data": {
      "text/html": [
       "<style>#sk-container-id-3 {color: black;background-color: white;}#sk-container-id-3 pre{padding: 0;}#sk-container-id-3 div.sk-toggleable {background-color: white;}#sk-container-id-3 label.sk-toggleable__label {cursor: pointer;display: block;width: 100%;margin-bottom: 0;padding: 0.3em;box-sizing: border-box;text-align: center;}#sk-container-id-3 label.sk-toggleable__label-arrow:before {content: \"▸\";float: left;margin-right: 0.25em;color: #696969;}#sk-container-id-3 label.sk-toggleable__label-arrow:hover:before {color: black;}#sk-container-id-3 div.sk-estimator:hover label.sk-toggleable__label-arrow:before {color: black;}#sk-container-id-3 div.sk-toggleable__content {max-height: 0;max-width: 0;overflow: hidden;text-align: left;background-color: #f0f8ff;}#sk-container-id-3 div.sk-toggleable__content pre {margin: 0.2em;color: black;border-radius: 0.25em;background-color: #f0f8ff;}#sk-container-id-3 input.sk-toggleable__control:checked~div.sk-toggleable__content {max-height: 200px;max-width: 100%;overflow: auto;}#sk-container-id-3 input.sk-toggleable__control:checked~label.sk-toggleable__label-arrow:before {content: \"▾\";}#sk-container-id-3 div.sk-estimator input.sk-toggleable__control:checked~label.sk-toggleable__label {background-color: #d4ebff;}#sk-container-id-3 div.sk-label input.sk-toggleable__control:checked~label.sk-toggleable__label {background-color: #d4ebff;}#sk-container-id-3 input.sk-hidden--visually {border: 0;clip: rect(1px 1px 1px 1px);clip: rect(1px, 1px, 1px, 1px);height: 1px;margin: -1px;overflow: hidden;padding: 0;position: absolute;width: 1px;}#sk-container-id-3 div.sk-estimator {font-family: monospace;background-color: #f0f8ff;border: 1px dotted black;border-radius: 0.25em;box-sizing: border-box;margin-bottom: 0.5em;}#sk-container-id-3 div.sk-estimator:hover {background-color: #d4ebff;}#sk-container-id-3 div.sk-parallel-item::after {content: \"\";width: 100%;border-bottom: 1px solid gray;flex-grow: 1;}#sk-container-id-3 div.sk-label:hover label.sk-toggleable__label {background-color: #d4ebff;}#sk-container-id-3 div.sk-serial::before {content: \"\";position: absolute;border-left: 1px solid gray;box-sizing: border-box;top: 0;bottom: 0;left: 50%;z-index: 0;}#sk-container-id-3 div.sk-serial {display: flex;flex-direction: column;align-items: center;background-color: white;padding-right: 0.2em;padding-left: 0.2em;position: relative;}#sk-container-id-3 div.sk-item {position: relative;z-index: 1;}#sk-container-id-3 div.sk-parallel {display: flex;align-items: stretch;justify-content: center;background-color: white;position: relative;}#sk-container-id-3 div.sk-item::before, #sk-container-id-3 div.sk-parallel-item::before {content: \"\";position: absolute;border-left: 1px solid gray;box-sizing: border-box;top: 0;bottom: 0;left: 50%;z-index: -1;}#sk-container-id-3 div.sk-parallel-item {display: flex;flex-direction: column;z-index: 1;position: relative;background-color: white;}#sk-container-id-3 div.sk-parallel-item:first-child::after {align-self: flex-end;width: 50%;}#sk-container-id-3 div.sk-parallel-item:last-child::after {align-self: flex-start;width: 50%;}#sk-container-id-3 div.sk-parallel-item:only-child::after {width: 0;}#sk-container-id-3 div.sk-dashed-wrapped {border: 1px dashed gray;margin: 0 0.4em 0.5em 0.4em;box-sizing: border-box;padding-bottom: 0.4em;background-color: white;}#sk-container-id-3 div.sk-label label {font-family: monospace;font-weight: bold;display: inline-block;line-height: 1.2em;}#sk-container-id-3 div.sk-label-container {text-align: center;}#sk-container-id-3 div.sk-container {/* jupyter's `normalize.less` sets `[hidden] { display: none; }` but bootstrap.min.css set `[hidden] { display: none !important; }` so we also need the `!important` here to be able to override the default hidden behavior on the sphinx rendered scikit-learn.org. See: https://github.com/scikit-learn/scikit-learn/issues/21755 */display: inline-block !important;position: relative;}#sk-container-id-3 div.sk-text-repr-fallback {display: none;}</style><div id=\"sk-container-id-3\" class=\"sk-top-container\"><div class=\"sk-text-repr-fallback\"><pre>DecisionTreeClassifier()</pre><b>In a Jupyter environment, please rerun this cell to show the HTML representation or trust the notebook. <br />On GitHub, the HTML representation is unable to render, please try loading this page with nbviewer.org.</b></div><div class=\"sk-container\" hidden><div class=\"sk-item\"><div class=\"sk-estimator sk-toggleable\"><input class=\"sk-toggleable__control sk-hidden--visually\" id=\"sk-estimator-id-3\" type=\"checkbox\" checked><label for=\"sk-estimator-id-3\" class=\"sk-toggleable__label sk-toggleable__label-arrow\">DecisionTreeClassifier</label><div class=\"sk-toggleable__content\"><pre>DecisionTreeClassifier()</pre></div></div></div></div></div>"
      ],
      "text/plain": [
       "DecisionTreeClassifier()"
      ]
     },
     "execution_count": 19,
     "metadata": {},
     "output_type": "execute_result"
    }
   ],
   "source": [
    "from sklearn.tree import DecisionTreeClassifier\n",
    "dt = DecisionTreeClassifier()\n",
    "dt.fit(X_train,y_train)"
   ]
  },
  {
   "cell_type": "code",
   "execution_count": 20,
   "id": "2f47efe3",
   "metadata": {
    "execution": {
     "iopub.execute_input": "2024-02-11T06:34:06.746009Z",
     "iopub.status.busy": "2024-02-11T06:34:06.745569Z",
     "iopub.status.idle": "2024-02-11T06:34:06.764993Z",
     "shell.execute_reply": "2024-02-11T06:34:06.763575Z"
    },
    "papermill": {
     "duration": 0.036171,
     "end_time": "2024-02-11T06:34:06.767934",
     "exception": false,
     "start_time": "2024-02-11T06:34:06.731763",
     "status": "completed"
    },
    "tags": []
   },
   "outputs": [
    {
     "data": {
      "text/plain": [
       "(0.4769385026737968, 0.9975490196078431)"
      ]
     },
     "execution_count": 20,
     "metadata": {},
     "output_type": "execute_result"
    }
   ],
   "source": [
    "accuracy_score(dt.predict(X_test),y_test),accuracy_score(dt.predict(X_train),y_train)"
   ]
  },
  {
   "cell_type": "code",
   "execution_count": 21,
   "id": "ef25f058",
   "metadata": {
    "execution": {
     "iopub.execute_input": "2024-02-11T06:34:06.795853Z",
     "iopub.status.busy": "2024-02-11T06:34:06.795253Z",
     "iopub.status.idle": "2024-02-11T06:34:18.377588Z",
     "shell.execute_reply": "2024-02-11T06:34:18.376221Z"
    },
    "papermill": {
     "duration": 11.600166,
     "end_time": "2024-02-11T06:34:18.380194",
     "exception": false,
     "start_time": "2024-02-11T06:34:06.780028",
     "status": "completed"
    },
    "tags": []
   },
   "outputs": [
    {
     "data": {
      "text/html": [
       "<style>#sk-container-id-4 {color: black;background-color: white;}#sk-container-id-4 pre{padding: 0;}#sk-container-id-4 div.sk-toggleable {background-color: white;}#sk-container-id-4 label.sk-toggleable__label {cursor: pointer;display: block;width: 100%;margin-bottom: 0;padding: 0.3em;box-sizing: border-box;text-align: center;}#sk-container-id-4 label.sk-toggleable__label-arrow:before {content: \"▸\";float: left;margin-right: 0.25em;color: #696969;}#sk-container-id-4 label.sk-toggleable__label-arrow:hover:before {color: black;}#sk-container-id-4 div.sk-estimator:hover label.sk-toggleable__label-arrow:before {color: black;}#sk-container-id-4 div.sk-toggleable__content {max-height: 0;max-width: 0;overflow: hidden;text-align: left;background-color: #f0f8ff;}#sk-container-id-4 div.sk-toggleable__content pre {margin: 0.2em;color: black;border-radius: 0.25em;background-color: #f0f8ff;}#sk-container-id-4 input.sk-toggleable__control:checked~div.sk-toggleable__content {max-height: 200px;max-width: 100%;overflow: auto;}#sk-container-id-4 input.sk-toggleable__control:checked~label.sk-toggleable__label-arrow:before {content: \"▾\";}#sk-container-id-4 div.sk-estimator input.sk-toggleable__control:checked~label.sk-toggleable__label {background-color: #d4ebff;}#sk-container-id-4 div.sk-label input.sk-toggleable__control:checked~label.sk-toggleable__label {background-color: #d4ebff;}#sk-container-id-4 input.sk-hidden--visually {border: 0;clip: rect(1px 1px 1px 1px);clip: rect(1px, 1px, 1px, 1px);height: 1px;margin: -1px;overflow: hidden;padding: 0;position: absolute;width: 1px;}#sk-container-id-4 div.sk-estimator {font-family: monospace;background-color: #f0f8ff;border: 1px dotted black;border-radius: 0.25em;box-sizing: border-box;margin-bottom: 0.5em;}#sk-container-id-4 div.sk-estimator:hover {background-color: #d4ebff;}#sk-container-id-4 div.sk-parallel-item::after {content: \"\";width: 100%;border-bottom: 1px solid gray;flex-grow: 1;}#sk-container-id-4 div.sk-label:hover label.sk-toggleable__label {background-color: #d4ebff;}#sk-container-id-4 div.sk-serial::before {content: \"\";position: absolute;border-left: 1px solid gray;box-sizing: border-box;top: 0;bottom: 0;left: 50%;z-index: 0;}#sk-container-id-4 div.sk-serial {display: flex;flex-direction: column;align-items: center;background-color: white;padding-right: 0.2em;padding-left: 0.2em;position: relative;}#sk-container-id-4 div.sk-item {position: relative;z-index: 1;}#sk-container-id-4 div.sk-parallel {display: flex;align-items: stretch;justify-content: center;background-color: white;position: relative;}#sk-container-id-4 div.sk-item::before, #sk-container-id-4 div.sk-parallel-item::before {content: \"\";position: absolute;border-left: 1px solid gray;box-sizing: border-box;top: 0;bottom: 0;left: 50%;z-index: -1;}#sk-container-id-4 div.sk-parallel-item {display: flex;flex-direction: column;z-index: 1;position: relative;background-color: white;}#sk-container-id-4 div.sk-parallel-item:first-child::after {align-self: flex-end;width: 50%;}#sk-container-id-4 div.sk-parallel-item:last-child::after {align-self: flex-start;width: 50%;}#sk-container-id-4 div.sk-parallel-item:only-child::after {width: 0;}#sk-container-id-4 div.sk-dashed-wrapped {border: 1px dashed gray;margin: 0 0.4em 0.5em 0.4em;box-sizing: border-box;padding-bottom: 0.4em;background-color: white;}#sk-container-id-4 div.sk-label label {font-family: monospace;font-weight: bold;display: inline-block;line-height: 1.2em;}#sk-container-id-4 div.sk-label-container {text-align: center;}#sk-container-id-4 div.sk-container {/* jupyter's `normalize.less` sets `[hidden] { display: none; }` but bootstrap.min.css set `[hidden] { display: none !important; }` so we also need the `!important` here to be able to override the default hidden behavior on the sphinx rendered scikit-learn.org. See: https://github.com/scikit-learn/scikit-learn/issues/21755 */display: inline-block !important;position: relative;}#sk-container-id-4 div.sk-text-repr-fallback {display: none;}</style><div id=\"sk-container-id-4\" class=\"sk-top-container\"><div class=\"sk-text-repr-fallback\"><pre>RandomForestClassifier()</pre><b>In a Jupyter environment, please rerun this cell to show the HTML representation or trust the notebook. <br />On GitHub, the HTML representation is unable to render, please try loading this page with nbviewer.org.</b></div><div class=\"sk-container\" hidden><div class=\"sk-item\"><div class=\"sk-estimator sk-toggleable\"><input class=\"sk-toggleable__control sk-hidden--visually\" id=\"sk-estimator-id-4\" type=\"checkbox\" checked><label for=\"sk-estimator-id-4\" class=\"sk-toggleable__label sk-toggleable__label-arrow\">RandomForestClassifier</label><div class=\"sk-toggleable__content\"><pre>RandomForestClassifier()</pre></div></div></div></div></div>"
      ],
      "text/plain": [
       "RandomForestClassifier()"
      ]
     },
     "execution_count": 21,
     "metadata": {},
     "output_type": "execute_result"
    }
   ],
   "source": [
    "from sklearn.ensemble import RandomForestClassifier\n",
    "rf = RandomForestClassifier()\n",
    "rf.fit(X_train,y_train)"
   ]
  },
  {
   "cell_type": "code",
   "execution_count": 22,
   "id": "e9f208c2",
   "metadata": {
    "execution": {
     "iopub.execute_input": "2024-02-11T06:34:18.409119Z",
     "iopub.status.busy": "2024-02-11T06:34:18.407533Z",
     "iopub.status.idle": "2024-02-11T06:34:18.964215Z",
     "shell.execute_reply": "2024-02-11T06:34:18.963046Z"
    },
    "papermill": {
     "duration": 0.574032,
     "end_time": "2024-02-11T06:34:18.967112",
     "exception": false,
     "start_time": "2024-02-11T06:34:18.393080",
     "status": "completed"
    },
    "tags": []
   },
   "outputs": [
    {
     "data": {
      "text/plain": [
       "(0.535427807486631, 0.9975490196078431)"
      ]
     },
     "execution_count": 22,
     "metadata": {},
     "output_type": "execute_result"
    }
   ],
   "source": [
    "accuracy_score(rf.predict(X_test),y_test),accuracy_score(rf.predict(X_train),y_train)"
   ]
  },
  {
   "cell_type": "code",
   "execution_count": 23,
   "id": "6dd91ca9",
   "metadata": {
    "execution": {
     "iopub.execute_input": "2024-02-11T06:34:18.994540Z",
     "iopub.status.busy": "2024-02-11T06:34:18.994100Z",
     "iopub.status.idle": "2024-02-11T06:34:19.336295Z",
     "shell.execute_reply": "2024-02-11T06:34:19.334543Z"
    },
    "papermill": {
     "duration": 0.359353,
     "end_time": "2024-02-11T06:34:19.339368",
     "exception": false,
     "start_time": "2024-02-11T06:34:18.980015",
     "status": "completed"
    },
    "tags": []
   },
   "outputs": [
    {
     "name": "stdout",
     "output_type": "stream",
     "text": [
      "              precision    recall  f1-score   support\n",
      "\n",
      "           0       1.00      1.00      1.00       631\n",
      "           1       1.00      1.00      1.00       655\n",
      "           2       1.00      1.00      1.00       644\n",
      "           3       1.00      1.00      1.00       625\n",
      "           4       1.00      1.00      1.00       650\n",
      "           5       1.00      0.99      0.99       647\n",
      "           6       1.00      1.00      1.00       636\n",
      "\n",
      "    accuracy                           1.00      4488\n",
      "   macro avg       1.00      1.00      1.00      4488\n",
      "weighted avg       1.00      1.00      1.00      4488\n",
      "\n"
     ]
    }
   ],
   "source": [
    "from sklearn.metrics import classification_report\n",
    "print(classification_report(rf.predict(X_train),y_train))"
   ]
  },
  {
   "cell_type": "code",
   "execution_count": 24,
   "id": "612e3ccd",
   "metadata": {
    "execution": {
     "iopub.execute_input": "2024-02-11T06:34:19.367789Z",
     "iopub.status.busy": "2024-02-11T06:34:19.367300Z",
     "iopub.status.idle": "2024-02-11T06:34:19.626255Z",
     "shell.execute_reply": "2024-02-11T06:34:19.624807Z"
    },
    "papermill": {
     "duration": 0.277659,
     "end_time": "2024-02-11T06:34:19.629600",
     "exception": false,
     "start_time": "2024-02-11T06:34:19.351941",
     "status": "completed"
    },
    "tags": []
   },
   "outputs": [
    {
     "name": "stdout",
     "output_type": "stream",
     "text": [
      "              precision    recall  f1-score   support\n",
      "\n",
      "           0       0.67      0.59      0.63       511\n",
      "           1       0.67      0.58      0.62       487\n",
      "           2       0.42      0.43      0.43       430\n",
      "           3       0.53      0.63      0.58       382\n",
      "           4       0.59      0.53      0.56       452\n",
      "           5       0.44      0.49      0.46       368\n",
      "           6       0.42      0.48      0.45       362\n",
      "\n",
      "    accuracy                           0.54      2992\n",
      "   macro avg       0.53      0.53      0.53      2992\n",
      "weighted avg       0.55      0.54      0.54      2992\n",
      "\n"
     ]
    }
   ],
   "source": [
    "print(classification_report(rf.predict(X_test),y_test))"
   ]
  }
 ],
 "metadata": {
  "kaggle": {
   "accelerator": "none",
   "dataSources": [
    {
     "datasetId": 2335145,
     "sourceId": 3933537,
     "sourceType": "datasetVersion"
    }
   ],
   "dockerImageVersionId": 30646,
   "isGpuEnabled": false,
   "isInternetEnabled": false,
   "language": "python",
   "sourceType": "notebook"
  },
  "kernelspec": {
   "display_name": "Python 3",
   "language": "python",
   "name": "python3"
  },
  "language_info": {
   "codemirror_mode": {
    "name": "ipython",
    "version": 3
   },
   "file_extension": ".py",
   "mimetype": "text/x-python",
   "name": "python",
   "nbconvert_exporter": "python",
   "pygments_lexer": "ipython3",
   "version": "3.10.13"
  },
  "papermill": {
   "default_parameters": {},
   "duration": 36.056926,
   "end_time": "2024-02-11T06:34:20.466691",
   "environment_variables": {},
   "exception": null,
   "input_path": "__notebook__.ipynb",
   "output_path": "__notebook__.ipynb",
   "parameters": {},
   "start_time": "2024-02-11T06:33:44.409765",
   "version": "2.5.0"
  }
 },
 "nbformat": 4,
 "nbformat_minor": 5
}
